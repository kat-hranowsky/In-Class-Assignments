{
  "nbformat": 4,
  "nbformat_minor": 0,
  "metadata": {
    "colab": {
      "provenance": [],
      "authorship_tag": "ABX9TyOGXKO1KNhOxcFNooHfim8C",
      "include_colab_link": true
    },
    "kernelspec": {
      "name": "python3",
      "display_name": "Python 3"
    },
    "language_info": {
      "name": "python"
    }
  },
  "cells": [
    {
      "cell_type": "markdown",
      "metadata": {
        "id": "view-in-github",
        "colab_type": "text"
      },
      "source": [
        "<a href=\"https://colab.research.google.com/github/kat-hranowsky/In-Class-Assignments/blob/main/in_class_assignments.ipynb\" target=\"_parent\"><img src=\"https://colab.research.google.com/assets/colab-badge.svg\" alt=\"Open In Colab\"/></a>"
      ]
    },
    {
      "cell_type": "code",
      "execution_count": null,
      "metadata": {
        "colab": {
          "base_uri": "https://localhost:8080/"
        },
        "id": "0z9oR0Tqyej1",
        "outputId": "0c16c99b-7e31-4c24-d661-48131fb1cdd6"
      },
      "outputs": [
        {
          "output_type": "stream",
          "name": "stdout",
          "text": [
            "244.92000000000002\n"
          ]
        }
      ],
      "source": [
        "pi = 3.14\n",
        "r = 3\n",
        "h = 10\n",
        "\n",
        "area = 2 * pi * r ** 2 + 2 * pi * r * h\n",
        "print(area)"
      ]
    },
    {
      "cell_type": "code",
      "source": [
        "import random\n",
        "\n",
        "'''\n",
        "Design a program of game of rock paper scissors that prints out who won the game\n",
        "'''\n",
        "play = input('Would you like to play a game? (Yes, No) ')\n",
        "\n",
        "while play == 'Yes':\n",
        "  # input\n",
        "  p1 = input('Enter choice for Player 1 (rock, paper, scissors): ')\n",
        "  p2 = random.choice(['rock', 'paper', 'scissors'])\n",
        "\n",
        "  print(f'Computer chose {p2}.')\n",
        "\n",
        "  # processes\n",
        "  if p1 == p2:\n",
        "    result = 'Draw'\n",
        "  elif p1 == 'rock' and p2 == 'scissors':\n",
        "    result = 'You Win'\n",
        "  elif p1 == 'paper' and p2 == 'rock':\n",
        "    result = 'You Win'\n",
        "  elif p1 == 'scissors' and p2 == 'paper':\n",
        "    result = 'You Win'\n",
        "  else:\n",
        "    result = 'Computer Wins'\n",
        "\n",
        "  # output and update\n",
        "  print(result)\n",
        "  play = input('Would you like to play again? (Yes, No) ')\n"
      ],
      "metadata": {
        "colab": {
          "base_uri": "https://localhost:8080/"
        },
        "id": "VFK8P8X1SF0A",
        "outputId": "fbf6ec55-a4d0-4502-a7ca-6bee175e11fd"
      },
      "execution_count": null,
      "outputs": [
        {
          "name": "stdout",
          "output_type": "stream",
          "text": [
            "Would you like to play a game? (Yes, No) Yes\n",
            "Enter choice for Player 1 (rock, paper, scissors): rock\n",
            "Computer chose scissors.\n",
            "You Win\n",
            "Would you like to play again? (Yes, No) Yes\n",
            "Enter choice for Player 1 (rock, paper, scissors): paper\n",
            "Computer chose scissors.\n",
            "Computer Wins\n",
            "Would you like to play again? (Yes, No) Yes\n",
            "Enter choice for Player 1 (rock, paper, scissors): rock\n",
            "Computer chose paper.\n",
            "Computer Wins\n",
            "Would you like to play again? (Yes, No) No\n"
          ]
        }
      ]
    },
    {
      "cell_type": "code",
      "source": [
        "'''\n",
        "Write a program for a numerical calculator (2 numbers and numerical operation)\n",
        "'''\n",
        "\n",
        "n1 = int(input('Enter first number: '))\n",
        "n2 = int(input('Enter second number: '))\n",
        "symbol = input('Choose a numerical operation (+, -, *, **, /): ')\n",
        "\n",
        "if symbol == '+':\n",
        "  formula = n1 + n2\n",
        "elif symbol == '-':\n",
        "  formula = n1 - n2\n",
        "elif symbol == '*':\n",
        "  formula = n1 * n2\n",
        "elif symbol == '**':\n",
        "  formula = n1 ** n2\n",
        "elif symbol == '/':\n",
        "  formula = n1 / n2\n",
        "else:\n",
        "  formula = 'Cannot compute'\n",
        "\n",
        "print(formula)"
      ],
      "metadata": {
        "colab": {
          "base_uri": "https://localhost:8080/"
        },
        "id": "GNE-67lU9IgQ",
        "outputId": "8c973d19-6428-4466-9fb6-330a1063a6e7"
      },
      "execution_count": null,
      "outputs": [
        {
          "output_type": "stream",
          "name": "stdout",
          "text": [
            "Enter first number: 3\n",
            "Enter second number: 2\n",
            "Choose a numerical operation (+, -, *, **, /): -\n",
            "1\n"
          ]
        }
      ]
    },
    {
      "cell_type": "code",
      "source": [
        "'''\n",
        "A parking garage charges $5 plus $2.50 for each hour. Minimum fee is $10, maximum is $20.\n",
        "Write a program that generates table with hours parked and corresponding fee from 1 to 8 hours.\n",
        "'''\n",
        "\n",
        "flat_rate = 5\n",
        "\n",
        "for t in range (1, 9):\n",
        "  charge = flat_rate + 2.5 * t\n",
        "  if charge < 10:\n",
        "    charge = 10.0\n",
        "  elif charge > 20:\n",
        "    charge = 20.0\n",
        "  print (t, charge)"
      ],
      "metadata": {
        "colab": {
          "base_uri": "https://localhost:8080/"
        },
        "id": "Ejmt9z1-DaWg",
        "outputId": "6ed22954-eadc-4bd4-e380-7a9e174079a6"
      },
      "execution_count": null,
      "outputs": [
        {
          "output_type": "stream",
          "name": "stdout",
          "text": [
            "1 10.0\n",
            "2 10.0\n",
            "3 12.5\n",
            "4 15.0\n",
            "5 17.5\n",
            "6 20.0\n",
            "7 20.0\n",
            "8 20.0\n"
          ]
        }
      ]
    },
    {
      "cell_type": "code",
      "source": [
        "'''\n",
        "Each movie ticket is $10. Without ads, 20 people are forcasted to attend. Additional people may attend based on ad spending:\n",
        "Additional attendees = 2 * advertisingDollars ** 0.5\n",
        "In addition to ad cost, there are fixed costs of $200\n",
        "Write a program to generate table for different advertising amounts and profits\n",
        "'''\n",
        "\n",
        "ticket = 10\n",
        "fixedCost = 200\n",
        "stdAttendees = 20\n",
        "\n",
        "for ad in range(0, 201, 25):\n",
        "  revenue = ticket * (stdAttendees + 2 * round(ad ** 0.5))\n",
        "  profit = revenue - fixedCost - ad\n",
        "  print(ad, profit)\n"
      ],
      "metadata": {
        "colab": {
          "base_uri": "https://localhost:8080/"
        },
        "id": "l2aJxBsbKaYe",
        "outputId": "1aba3db4-57a4-4a78-cfb4-22664d3b7ad5"
      },
      "execution_count": null,
      "outputs": [
        {
          "output_type": "stream",
          "name": "stdout",
          "text": [
            "0 0\n",
            "25 75\n",
            "50 90\n",
            "75 105\n",
            "100 100\n",
            "125 95\n",
            "150 90\n",
            "175 85\n",
            "200 80\n"
          ]
        }
      ]
    },
    {
      "cell_type": "code",
      "source": [
        "ad = 0\n",
        "while ad < 201:\n",
        "  revenue = 10 * (20 + 2 * round(ad ** 0.5))\n",
        "  profit = revenue - fixedCost - ad\n",
        "  print(ad, profit)\n",
        "  ad = ad + 25"
      ],
      "metadata": {
        "colab": {
          "base_uri": "https://localhost:8080/"
        },
        "id": "HaFDM5UiTOnC",
        "outputId": "48a72a99-e76e-4226-857b-4940c6d141d7"
      },
      "execution_count": null,
      "outputs": [
        {
          "output_type": "stream",
          "name": "stdout",
          "text": [
            "0 0\n",
            "25 75\n",
            "50 90\n",
            "75 105\n",
            "100 100\n",
            "125 95\n",
            "150 90\n",
            "175 85\n",
            "200 80\n"
          ]
        }
      ]
    },
    {
      "cell_type": "code",
      "source": [
        "'''\n",
        "Start with an empty list.\n",
        "Ask user for numerical inputs that will be added to the list.\n",
        "Process is repeated until user gives '0' and zero must not be in the list\n",
        "'''\n",
        "L = []\n",
        "item = int(input('Give a value: '))\n",
        "\n",
        "while item != 0:\n",
        "  L.append(item)\n",
        "  item = int(input('Give another value: '))\n",
        "\n",
        "print(L)"
      ],
      "metadata": {
        "id": "cjRJ06l_Vqph"
      },
      "execution_count": null,
      "outputs": []
    },
    {
      "cell_type": "code",
      "source": [
        "months = {}\n",
        "\n",
        "names = ['Jan', 'Feb', 'Mar', 'Apr', 'May', 'Jun', 'Jul', 'Aug', 'Sep', 'Oct', 'Nov', 'Dec']\n",
        "numbers = [1, 2, 3, 4, 5, 6, 7, 8, 9, 10, 11, 12]\n",
        "\n",
        "for n in range (1, 13):\n",
        "  months[n] = names[n-1]\n",
        "\n",
        "print(months,'')"
      ],
      "metadata": {
        "colab": {
          "base_uri": "https://localhost:8080/"
        },
        "id": "AHhLl4eUFcTR",
        "outputId": "4fb0ee06-ceaf-43a5-aee8-80900c01b015"
      },
      "execution_count": 10,
      "outputs": [
        {
          "output_type": "stream",
          "name": "stdout",
          "text": [
            "{1: 'Jan', 2: 'Feb', 3: 'Mar', 4: 'Apr', 5: 'May', 6: 'Jun', 7: 'Jul', 8: 'Aug', 9: 'Sep', 10: 'Oct', 11: 'Nov', 12: 'Dec'} \n"
          ]
        }
      ]
    }
  ]
}