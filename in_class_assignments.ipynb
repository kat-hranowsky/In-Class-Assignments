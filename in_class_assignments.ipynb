{
  "nbformat": 4,
  "nbformat_minor": 0,
  "metadata": {
    "colab": {
      "provenance": [],
      "authorship_tag": "ABX9TyN/iBVakm9nQA+wHPtTbw5q",
      "include_colab_link": true
    },
    "kernelspec": {
      "name": "python3",
      "display_name": "Python 3"
    },
    "language_info": {
      "name": "python"
    }
  },
  "cells": [
    {
      "cell_type": "markdown",
      "metadata": {
        "id": "view-in-github",
        "colab_type": "text"
      },
      "source": [
        "<a href=\"https://colab.research.google.com/github/kat-hranowsky/In-Class-Assignments/blob/main/in_class_assignments.ipynb\" target=\"_parent\"><img src=\"https://colab.research.google.com/assets/colab-badge.svg\" alt=\"Open In Colab\"/></a>"
      ]
    },
    {
      "cell_type": "code",
      "execution_count": null,
      "metadata": {
        "colab": {
          "base_uri": "https://localhost:8080/"
        },
        "id": "0z9oR0Tqyej1",
        "outputId": "0c16c99b-7e31-4c24-d661-48131fb1cdd6"
      },
      "outputs": [
        {
          "output_type": "stream",
          "name": "stdout",
          "text": [
            "244.92000000000002\n"
          ]
        }
      ],
      "source": [
        "pi = 3.14\n",
        "r = 3\n",
        "h = 10\n",
        "\n",
        "area = 2 * pi * r ** 2 + 2 * pi * r * h\n",
        "print(area)"
      ]
    },
    {
      "cell_type": "code",
      "source": [
        "'''\n",
        "Design a program of game of rock paper scissors that prints out who won the game\n",
        "'''\n",
        "\n",
        "# input\n",
        "p1 = input('Enter choice for Player 1 (rock, paper, scissors): ')\n",
        "p2 = input('Enter choice for Player 2 (rock, paper, scissors): ')\n",
        "\n",
        "# processes\n",
        "if p1 == p2:\n",
        "  result = 'Draw'\n",
        "elif p1 == 'rock' and p2 == 'scissors':\n",
        "  result = 'Player 1 Wins'\n",
        "elif p1 == 'paper' and p2 == 'rock':\n",
        "  result = 'Player 1 Wins'\n",
        "elif p1 == 'scissors' and p2 == 'paper':\n",
        "  result = 'Player 1 Wins'\n",
        "else:\n",
        "  result = 'Player 2 Wins'\n",
        "\n",
        "# output\n",
        "print(result)"
      ],
      "metadata": {
        "colab": {
          "base_uri": "https://localhost:8080/"
        },
        "id": "VFK8P8X1SF0A",
        "outputId": "7d232ea8-6f29-4dc8-95ef-5ace423948c1"
      },
      "execution_count": 9,
      "outputs": [
        {
          "output_type": "stream",
          "name": "stdout",
          "text": [
            "Enter choice for player 1 (rock, paper, scissors): rock\n",
            "Enter choice for player 2 (rock, paper, scissors): scissors\n",
            "Player 1 Wins\n"
          ]
        }
      ]
    }
  ]
}