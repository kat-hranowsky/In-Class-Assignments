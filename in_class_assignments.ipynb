{
  "nbformat": 4,
  "nbformat_minor": 0,
  "metadata": {
    "colab": {
      "provenance": [],
      "authorship_tag": "ABX9TyOKad01TOVOTOktoteiKyDd",
      "include_colab_link": true
    },
    "kernelspec": {
      "name": "python3",
      "display_name": "Python 3"
    },
    "language_info": {
      "name": "python"
    }
  },
  "cells": [
    {
      "cell_type": "markdown",
      "metadata": {
        "id": "view-in-github",
        "colab_type": "text"
      },
      "source": [
        "<a href=\"https://colab.research.google.com/github/kat-hranowsky/In-Class-Assignments/blob/main/in_class_assignments.ipynb\" target=\"_parent\"><img src=\"https://colab.research.google.com/assets/colab-badge.svg\" alt=\"Open In Colab\"/></a>"
      ]
    },
    {
      "cell_type": "code",
      "execution_count": null,
      "metadata": {
        "colab": {
          "base_uri": "https://localhost:8080/"
        },
        "id": "0z9oR0Tqyej1",
        "outputId": "0c16c99b-7e31-4c24-d661-48131fb1cdd6"
      },
      "outputs": [
        {
          "output_type": "stream",
          "name": "stdout",
          "text": [
            "244.92000000000002\n"
          ]
        }
      ],
      "source": [
        "pi = 3.14\n",
        "r = 3\n",
        "h = 10\n",
        "\n",
        "area = 2 * pi * r ** 2 + 2 * pi * r * h\n",
        "print(area)"
      ]
    },
    {
      "cell_type": "code",
      "source": [
        "import random\n",
        "\n",
        "'''\n",
        "Design a program of game of rock paper scissors that prints out who won the game\n",
        "'''\n",
        "play = input('Would you like to play a game? (Yes, No) ')\n",
        "\n",
        "while play == 'Yes':\n",
        "  # input\n",
        "  p1 = input('Enter choice for Player 1 (rock, paper, scissors): ')\n",
        "  p2 = random.choice(['rock', 'paper', 'scissors'])\n",
        "\n",
        "  print(f'Computer chose {p2}.')\n",
        "\n",
        "  # processes\n",
        "  if p1 == p2:\n",
        "    result = 'Draw'\n",
        "  elif p1 == 'rock' and p2 == 'scissors':\n",
        "    result = 'You Win'\n",
        "  elif p1 == 'paper' and p2 == 'rock':\n",
        "    result = 'You Win'\n",
        "  elif p1 == 'scissors' and p2 == 'paper':\n",
        "    result = 'You Win'\n",
        "  else:\n",
        "    result = 'Computer Wins'\n",
        "\n",
        "  # output and update\n",
        "  print(result)\n",
        "  play = input('Would you like to play again? (Yes, No) ')\n"
      ],
      "metadata": {
        "colab": {
          "base_uri": "https://localhost:8080/"
        },
        "id": "VFK8P8X1SF0A",
        "outputId": "fbf6ec55-a4d0-4502-a7ca-6bee175e11fd"
      },
      "execution_count": null,
      "outputs": [
        {
          "name": "stdout",
          "output_type": "stream",
          "text": [
            "Would you like to play a game? (Yes, No) Yes\n",
            "Enter choice for Player 1 (rock, paper, scissors): rock\n",
            "Computer chose scissors.\n",
            "You Win\n",
            "Would you like to play again? (Yes, No) Yes\n",
            "Enter choice for Player 1 (rock, paper, scissors): paper\n",
            "Computer chose scissors.\n",
            "Computer Wins\n",
            "Would you like to play again? (Yes, No) Yes\n",
            "Enter choice for Player 1 (rock, paper, scissors): rock\n",
            "Computer chose paper.\n",
            "Computer Wins\n",
            "Would you like to play again? (Yes, No) No\n"
          ]
        }
      ]
    },
    {
      "cell_type": "code",
      "source": [
        "'''\n",
        "Write a program for a numerical calculator (2 numbers and numerical operation)\n",
        "'''\n",
        "\n",
        "n1 = int(input('Enter first number: '))\n",
        "n2 = int(input('Enter second number: '))\n",
        "symbol = input('Choose a numerical operation (+, -, *, **, /): ')\n",
        "\n",
        "if symbol == '+':\n",
        "  formula = n1 + n2\n",
        "elif symbol == '-':\n",
        "  formula = n1 - n2\n",
        "elif symbol == '*':\n",
        "  formula = n1 * n2\n",
        "elif symbol == '**':\n",
        "  formula = n1 ** n2\n",
        "elif symbol == '/':\n",
        "  formula = n1 / n2\n",
        "else:\n",
        "  formula = 'Cannot compute'\n",
        "\n",
        "print(formula)"
      ],
      "metadata": {
        "colab": {
          "base_uri": "https://localhost:8080/"
        },
        "id": "GNE-67lU9IgQ",
        "outputId": "8c973d19-6428-4466-9fb6-330a1063a6e7"
      },
      "execution_count": null,
      "outputs": [
        {
          "output_type": "stream",
          "name": "stdout",
          "text": [
            "Enter first number: 3\n",
            "Enter second number: 2\n",
            "Choose a numerical operation (+, -, *, **, /): -\n",
            "1\n"
          ]
        }
      ]
    },
    {
      "cell_type": "code",
      "source": [
        "'''\n",
        "A parking garage charges $5 plus $2.50 for each hour. Minimum fee is $10, maximum is $20.\n",
        "Write a program that generates table with hours parked and corresponding fee from 1 to 8 hours.\n",
        "'''\n",
        "\n",
        "flat_rate = 5\n",
        "\n",
        "for t in range (1, 9):\n",
        "  charge = flat_rate + 2.5 * t\n",
        "  if charge < 10:\n",
        "    charge = 10.0\n",
        "  elif charge > 20:\n",
        "    charge = 20.0\n",
        "  print (t, charge)"
      ],
      "metadata": {
        "colab": {
          "base_uri": "https://localhost:8080/"
        },
        "id": "Ejmt9z1-DaWg",
        "outputId": "6ed22954-eadc-4bd4-e380-7a9e174079a6"
      },
      "execution_count": null,
      "outputs": [
        {
          "output_type": "stream",
          "name": "stdout",
          "text": [
            "1 10.0\n",
            "2 10.0\n",
            "3 12.5\n",
            "4 15.0\n",
            "5 17.5\n",
            "6 20.0\n",
            "7 20.0\n",
            "8 20.0\n"
          ]
        }
      ]
    },
    {
      "cell_type": "code",
      "source": [
        "'''\n",
        "Each movie ticket is $10. Without ads, 20 people are forcasted to attend. Additional people may attend based on ad spending:\n",
        "Additional attendees = 2 * advertisingDollars ** 0.5\n",
        "In addition to ad cost, there are fixed costs of $200\n",
        "Write a program to generate table for different advertising amounts and profits\n",
        "'''\n",
        "\n",
        "ticket = 10\n",
        "fixedCost = 200\n",
        "stdAttendees = 20\n",
        "\n",
        "for ad in range(0, 201, 25):\n",
        "  revenue = ticket * (stdAttendees + 2 * round(ad ** 0.5))\n",
        "  profit = revenue - fixedCost - ad\n",
        "  print(ad, profit)\n"
      ],
      "metadata": {
        "colab": {
          "base_uri": "https://localhost:8080/"
        },
        "id": "l2aJxBsbKaYe",
        "outputId": "1aba3db4-57a4-4a78-cfb4-22664d3b7ad5"
      },
      "execution_count": null,
      "outputs": [
        {
          "output_type": "stream",
          "name": "stdout",
          "text": [
            "0 0\n",
            "25 75\n",
            "50 90\n",
            "75 105\n",
            "100 100\n",
            "125 95\n",
            "150 90\n",
            "175 85\n",
            "200 80\n"
          ]
        }
      ]
    },
    {
      "cell_type": "code",
      "source": [
        "ad = 0\n",
        "while ad < 201:\n",
        "  revenue = 10 * (20 + 2 * round(ad ** 0.5))\n",
        "  profit = revenue - fixedCost - ad\n",
        "  print(ad, profit)\n",
        "  ad = ad + 25"
      ],
      "metadata": {
        "colab": {
          "base_uri": "https://localhost:8080/"
        },
        "id": "HaFDM5UiTOnC",
        "outputId": "48a72a99-e76e-4226-857b-4940c6d141d7"
      },
      "execution_count": null,
      "outputs": [
        {
          "output_type": "stream",
          "name": "stdout",
          "text": [
            "0 0\n",
            "25 75\n",
            "50 90\n",
            "75 105\n",
            "100 100\n",
            "125 95\n",
            "150 90\n",
            "175 85\n",
            "200 80\n"
          ]
        }
      ]
    },
    {
      "cell_type": "code",
      "source": [
        "'''\n",
        "Start with an empty list.\n",
        "Ask user for numerical inputs that will be added to the list.\n",
        "Process is repeated until user gives '0' and zero must not be in the list\n",
        "'''\n",
        "L = []\n",
        "item = int(input('Give a value: '))\n",
        "\n",
        "while item != 0:\n",
        "  L.append(item)\n",
        "  item = int(input('Give another value: '))\n",
        "\n",
        "print(L)"
      ],
      "metadata": {
        "id": "cjRJ06l_Vqph"
      },
      "execution_count": null,
      "outputs": []
    },
    {
      "cell_type": "code",
      "source": [
        "months = {}\n",
        "\n",
        "names = ['Jan', 'Feb', 'Mar', 'Apr', 'May', 'Jun', 'Jul', 'Aug', 'Sep', 'Oct', 'Nov', 'Dec']\n",
        "numbers = [1, 2, 3, 4, 5, 6, 7, 8, 9, 10, 11, 12]\n",
        "\n",
        "for n in numbers:\n",
        "  months[n] = names[n-1]\n",
        "\n",
        "print(months,'')"
      ],
      "metadata": {
        "colab": {
          "base_uri": "https://localhost:8080/"
        },
        "id": "AHhLl4eUFcTR",
        "outputId": "de48e042-6604-4a81-d42d-689ac98331de"
      },
      "execution_count": null,
      "outputs": [
        {
          "output_type": "stream",
          "name": "stdout",
          "text": [
            "{1: 'Jan', 2: 'Feb', 3: 'Mar', 4: 'Apr', 5: 'May', 6: 'Jun', 7: 'Jul', 8: 'Aug', 9: 'Sep', 10: 'Oct', 11: 'Nov', 12: 'Dec'} \n"
          ]
        }
      ]
    },
    {
      "cell_type": "code",
      "source": [
        "# house hunting\n",
        "\n",
        "annual_salary = float(input('Input your annual salary: '))\n",
        "portion_saved = float(input('Input the portion of salary to be saved, as a decimal: '))\n",
        "total_cost = float(input('Input the cost of your dream home: '))\n",
        "\n",
        "portion_down_payment = 0.25\n",
        "current_savings = 0\n",
        "r = 0.04  # per year\n",
        "\n",
        "down_payment = total_cost * portion_down_payment\n",
        "monthly_salary = annual_salary / 12\n",
        "monthly_saved = portion_saved * monthly_salary\n",
        "\n",
        "months = 0\n",
        "\n",
        "while current_savings < down_payment:\n",
        "  current_savings += current_savings * r / 12 + monthly_saved\n",
        "  months += 1\n",
        "\n",
        "print(f'Number of months: {months}')"
      ],
      "metadata": {
        "id": "lhG39bxQLgxy",
        "colab": {
          "base_uri": "https://localhost:8080/"
        },
        "outputId": "fa29841a-b2d5-43ae-80d7-2fdea6c4c678"
      },
      "execution_count": null,
      "outputs": [
        {
          "output_type": "stream",
          "name": "stdout",
          "text": [
            "Input your annual salary: 120000\n",
            "Input the portion of salary to be saved, as a decimal: .10\n",
            "Input the cost of your dream home: 1000000\n",
            "Number of months: 183\n"
          ]
        }
      ]
    },
    {
      "cell_type": "code",
      "source": [
        "# saving with raise\n",
        "annual_salary = float(input('Input your annual salary: '))\n",
        "portion_saved = float(input('Input the portion of salary to be saved, as a decimal: '))\n",
        "total_cost = float(input('Input the cost of your dream home: '))\n",
        "semi_annual_raise = float(input('Enter the semi-annual rasie, as a decimal: '))\n",
        "\n",
        "portion_down_payment = 0.25\n",
        "current_savings = 0\n",
        "r = 0.04  # per year\n",
        "\n",
        "down_payment = total_cost * portion_down_payment\n",
        "monthly_salary = annual_salary / 12\n",
        "monthly_saved = portion_saved * monthly_salary\n",
        "\n",
        "months = 0\n",
        "\n",
        "while current_savings < down_payment:\n",
        "  current_savings += current_savings * r / 12 + monthly_saved\n",
        "  months += 1\n",
        "  if months % 6 == 0:\n",
        "    annual_salary = annual_salary * (1 + semi_annual_raise)\n",
        "    monthly_salary = annual_salary / 12\n",
        "    monthly_saved = portion_saved * monthly_salary\n",
        "\n",
        "\n",
        "print(f'Number of months: {months}')\n",
        "\n"
      ],
      "metadata": {
        "colab": {
          "base_uri": "https://localhost:8080/"
        },
        "id": "qqlDbXwHpMgT",
        "outputId": "eea14d30-4684-4a2f-a09d-85cb67c7f711"
      },
      "execution_count": null,
      "outputs": [
        {
          "output_type": "stream",
          "name": "stdout",
          "text": [
            "Input your annual salary: 120000\n",
            "Input the portion of salary to be saved, as a decimal: .10\n",
            "Input the cost of your dream home: 1000000\n",
            "Enter the semi-annual rasie, as a decimal: .03\n",
            "Number of months: 142\n"
          ]
        }
      ]
    },
    {
      "cell_type": "code",
      "source": [
        "# Check if a number is within a range\n",
        "\n",
        "def range_check(num, low, high):\n",
        "    if low <= num and num <= high:\n",
        "      return True\n",
        "    else:\n",
        "      return False\n",
        "\n",
        "print(range_check(10, 5, 15))\n",
        "print(range_check(20, 5, 15))"
      ],
      "metadata": {
        "colab": {
          "base_uri": "https://localhost:8080/"
        },
        "id": "l5OlVqvlrNPF",
        "outputId": "3fc3415a-fed8-421f-af8a-afe3eee76438"
      },
      "execution_count": null,
      "outputs": [
        {
          "output_type": "stream",
          "name": "stdout",
          "text": [
            "True\n",
            "False\n"
          ]
        }
      ]
    },
    {
      "cell_type": "code",
      "source": [
        "'''\n",
        "A parking garage charges $5 plus $2.50 for each hour parked.\n",
        "Write a program that:\n",
        "Prompts the number of hours parked\n",
        "Calculates and displays the parking fee charged\n",
        "\n",
        "Define a function that calculates the parking fee given a number of hours.\n",
        "'''\n",
        "\n",
        "def calcFee(hours):\n",
        "  fee = 5 + 2.5 * hours\n",
        "  return fee\n",
        "\n",
        "hours = int(input('Enter the number of hours parked: '))\n",
        "fee = calcFee(hours)\n",
        "print(f'Parking fee charged: {fee}')"
      ],
      "metadata": {
        "colab": {
          "base_uri": "https://localhost:8080/"
        },
        "id": "qOSlCQPwMuqo",
        "outputId": "c6a2ad3f-9cd0-43c0-fc16-31b87def0c48"
      },
      "execution_count": null,
      "outputs": [
        {
          "output_type": "stream",
          "name": "stdout",
          "text": [
            "Enter the number of hours parked: 4\n",
            "Parking fee charged: 15.0\n"
          ]
        }
      ]
    },
    {
      "cell_type": "code",
      "source": [
        "'''\n",
        "Refine parking fee program.\n",
        "Define and call function that displays the result\n",
        "Refine signature for calcFee(), include a named parameter, decimals, which rounds the fee\n",
        "'''\n",
        "\n",
        "def calcFee(hours, decimals=2):\n",
        "  fee = 5 + 2.5 * hours\n",
        "  fee = round(fee, decimals)\n",
        "  return fee\n",
        "\n",
        "def displayFee(fee):\n",
        "  fee = calcFee(hours)\n",
        "  print(f'Parking fee charged: {fee}')\n",
        "\n",
        "hours = float(input('Enter the number of hours parked: '))\n",
        "displayFee(hours)"
      ],
      "metadata": {
        "colab": {
          "base_uri": "https://localhost:8080/"
        },
        "id": "zCc_uq4DRwFU",
        "outputId": "2547dc5d-8ef2-4ea3-a620-211734fae6da"
      },
      "execution_count": null,
      "outputs": [
        {
          "output_type": "stream",
          "name": "stdout",
          "text": [
            "Enter the number of hours parked: 4\n",
            "Parking fee charged: 15.0\n"
          ]
        }
      ]
    },
    {
      "cell_type": "code",
      "source": [
        "'''Design a recursive functions that takes strings as inputs and reverses them'''\n",
        "\n",
        "def rev(s):\n",
        "  if len(s) == 1:\n",
        "    return s\n",
        "  else:\n",
        "    return s[-1] + rev(s[:-1])\n",
        "\n",
        "s = input('Enter a word: ')\n",
        "print(rev(s))"
      ],
      "metadata": {
        "colab": {
          "base_uri": "https://localhost:8080/"
        },
        "id": "U8iYN7qLUkp_",
        "outputId": "fa242b7d-6be8-4501-8de8-1385c6474d42"
      },
      "execution_count": null,
      "outputs": [
        {
          "output_type": "stream",
          "name": "stdout",
          "text": [
            "Enter a word: hello\n",
            "olleh\n"
          ]
        }
      ]
    },
    {
      "cell_type": "code",
      "source": [
        "'''\n",
        "Function that calculates the weighted average of a list L, given weights w\n",
        "The function should handle the following exception error types:\n",
        "- ZeroDivisionError (returns empty list)\n",
        "- TypeError (returns empty list)\n",
        "- any other unknown error (returns float('nan'))\n",
        "'''\n",
        "\n",
        "def wAvg(L, w):\n",
        "  res = []\n",
        "  try:\n",
        "    for i in range(len(L)):\n",
        "      res.append(L[i] * w[i])\n",
        "    return sum(res) / sum(w)\n",
        "  except ZeroDivisionError:\n",
        "    print('Division by zero')\n",
        "    return []\n",
        "  except TypeError:\n",
        "    print('Type error')\n",
        "    return []\n",
        "  except Exception as e:\n",
        "    print(f'Unknown error: {e}')\n",
        "    return float('nan')\n",
        "\n",
        "wAvg([1,2,3], [.1, .3, .4])"
      ],
      "metadata": {
        "id": "3iZzK-3KWErm",
        "colab": {
          "base_uri": "https://localhost:8080/"
        },
        "outputId": "339ac950-0ae1-499a-faa7-439279f0b8c2"
      },
      "execution_count": null,
      "outputs": [
        {
          "output_type": "execute_result",
          "data": {
            "text/plain": [
              "2.375"
            ]
          },
          "metadata": {},
          "execution_count": 12
        }
      ]
    },
    {
      "cell_type": "code",
      "source": [
        "'''\n",
        "Define a class named 'Student.' Student has two attributes:\n",
        "1. name(str)\n",
        "2. number(str)\n",
        "\n",
        "Create two objects out of this class.\n",
        "\n",
        "The objects will be:\n",
        "1. name: James Bond, number: 007\n",
        "2. name: Clark Kent, number: 333\n",
        "\n",
        "Print their names\n",
        "'''\n",
        "\n",
        "class Student:\n",
        "  def __init__ (self, name, number):\n",
        "    self.name = name\n",
        "    self.number = number\n",
        "\n",
        "james = Student('James Bond', '007')\n",
        "clark = Student('Clark Kent', '333')\n",
        "\n",
        "print(james.name)\n",
        "print(clark.name)"
      ],
      "metadata": {
        "colab": {
          "base_uri": "https://localhost:8080/"
        },
        "id": "5rvM4ZT9nOHQ",
        "outputId": "71459baf-db85-4230-907f-7ea50d56dbd1"
      },
      "execution_count": null,
      "outputs": [
        {
          "output_type": "stream",
          "name": "stdout",
          "text": [
            "James Bond\n",
            "Clark Kent\n"
          ]
        }
      ]
    },
    {
      "cell_type": "code",
      "source": [
        "'''\n",
        "The student class above has a new attribute.\n",
        "This attribute is courses and will keep the list of courses the student takes.\n",
        "Its type is a list and it will start as empty. There will be a method 'enroll' to enroll in the course.\n",
        "The student will enroll if it has not already.\n",
        "There will be a method 'get_courses' which will return the course list\n",
        "'''\n",
        "\n",
        "class Student:\n",
        "  def __init__ (self, name, number, courses):\n",
        "    self.name = name\n",
        "    self.number = number\n",
        "    self.courses = []\n",
        "\n",
        "  def enroll(self, course):\n",
        "    if course not in self.courses:\n",
        "      self.courses.append(course)\n",
        "\n",
        "  def get_courses(self):\n",
        "    return self.courses\n"
      ],
      "metadata": {
        "id": "N8BaNsg18Uin"
      },
      "execution_count": 5,
      "outputs": []
    },
    {
      "cell_type": "code",
      "source": [
        "john = Student('John Doe', 1111, ['BTE320', 'BTE401'])\n",
        "\n",
        "john.enroll('BTE401')\n",
        "john.enroll('BTE320')\n",
        "\n",
        "print(john.name)\n",
        "print(john.number)\n",
        "print(john.courses)"
      ],
      "metadata": {
        "colab": {
          "base_uri": "https://localhost:8080/"
        },
        "id": "Lv1aoDWt-dTe",
        "outputId": "95d086f7-7dc3-4a44-829e-b3362173bb14"
      },
      "execution_count": 16,
      "outputs": [
        {
          "output_type": "stream",
          "name": "stdout",
          "text": [
            "John Doe\n",
            "1111\n",
            "['BTE401', 'BTE320']\n"
          ]
        }
      ]
    }
  ]
}