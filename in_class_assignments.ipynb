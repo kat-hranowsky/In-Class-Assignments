{
  "nbformat": 4,
  "nbformat_minor": 0,
  "metadata": {
    "colab": {
      "provenance": [],
      "authorship_tag": "ABX9TyPnRwSF25mr6VGjuzpQR+On",
      "include_colab_link": true
    },
    "kernelspec": {
      "name": "python3",
      "display_name": "Python 3"
    },
    "language_info": {
      "name": "python"
    }
  },
  "cells": [
    {
      "cell_type": "markdown",
      "metadata": {
        "id": "view-in-github",
        "colab_type": "text"
      },
      "source": [
        "<a href=\"https://colab.research.google.com/github/kat-hranowsky/In-Class-Assignments/blob/main/in_class_assignments.ipynb\" target=\"_parent\"><img src=\"https://colab.research.google.com/assets/colab-badge.svg\" alt=\"Open In Colab\"/></a>"
      ]
    },
    {
      "cell_type": "code",
      "execution_count": null,
      "metadata": {
        "colab": {
          "base_uri": "https://localhost:8080/"
        },
        "id": "0z9oR0Tqyej1",
        "outputId": "0c16c99b-7e31-4c24-d661-48131fb1cdd6"
      },
      "outputs": [
        {
          "output_type": "stream",
          "name": "stdout",
          "text": [
            "244.92000000000002\n"
          ]
        }
      ],
      "source": [
        "pi = 3.14\n",
        "r = 3\n",
        "h = 10\n",
        "\n",
        "area = 2 * pi * r ** 2 + 2 * pi * r * h\n",
        "print(area)"
      ]
    },
    {
      "cell_type": "code",
      "source": [
        "'''\n",
        "Design a program of game of rock paper scissors that prints out who won the game\n",
        "'''\n",
        "play = input('Would you like to play a game? (Yes, No) ')\n",
        "\n",
        "while play == 'Yes':\n",
        "  # input\n",
        "  p1 = input('Enter choice for Player 1 (rock, paper, scissors): ')\n",
        "  p2 = input('Enter choice for Player 2 (rock, paper, scissors): ')\n",
        "\n",
        "  # processes\n",
        "  if p1 == p2:\n",
        "    result = 'Draw'\n",
        "  elif p1 == 'rock' and p2 == 'scissors':\n",
        "    result = 'Player 1 Wins'\n",
        "  elif p1 == 'paper' and p2 == 'rock':\n",
        "    result = 'Player 1 Wins'\n",
        "  elif p1 == 'scissors' and p2 == 'paper':\n",
        "    result = 'Player 1 Wins'\n",
        "  else:\n",
        "    result = 'Player 2 Wins'\n",
        "\n",
        "  # output\n",
        "  print(result)\n",
        "  play = input('Would you like to play again? (Yes, No) ')\n"
      ],
      "metadata": {
        "colab": {
          "base_uri": "https://localhost:8080/"
        },
        "id": "VFK8P8X1SF0A",
        "outputId": "2e4216a6-4339-41e7-ca65-92a8228514b5"
      },
      "execution_count": 4,
      "outputs": [
        {
          "name": "stdout",
          "output_type": "stream",
          "text": [
            "Would you like to play a game? (Yes, No) Yes\n",
            "Enter choice for Player 1 (rock, paper, scissors): scissors\n",
            "Enter choice for Player 2 (rock, paper, scissors): paper\n",
            "Player 1 Wins\n",
            "Would you like to play again? (Yes, No) No\n"
          ]
        }
      ]
    },
    {
      "cell_type": "code",
      "source": [
        "'''\n",
        "Write a program for a numerical calculator (2 numbers and numerical operation)\n",
        "'''\n",
        "\n",
        "n1 = int(input('Enter first number: '))\n",
        "n2 = int(input('Enter second number: '))\n",
        "symbol = input('Choose a numerical operation (+, -, *, **, /): ')\n",
        "\n",
        "if symbol == '+':\n",
        "  formula = n1 + n2\n",
        "elif symbol == '-':\n",
        "  formula = n1 - n2\n",
        "elif symbol == '*':\n",
        "  formula = n1 * n2\n",
        "elif symbol == '**':\n",
        "  formula = n1 ** n2\n",
        "elif symbol == '/':\n",
        "  formula = n1 / n2\n",
        "else:\n",
        "  formula = 'Cannot compute'\n",
        "\n",
        "print(formula)"
      ],
      "metadata": {
        "colab": {
          "base_uri": "https://localhost:8080/"
        },
        "id": "GNE-67lU9IgQ",
        "outputId": "8c973d19-6428-4466-9fb6-330a1063a6e7"
      },
      "execution_count": null,
      "outputs": [
        {
          "output_type": "stream",
          "name": "stdout",
          "text": [
            "Enter first number: 3\n",
            "Enter second number: 2\n",
            "Choose a numerical operation (+, -, *, **, /): -\n",
            "1\n"
          ]
        }
      ]
    }
  ]
}